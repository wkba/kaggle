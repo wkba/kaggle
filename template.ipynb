{
  "nbformat": 4,
  "nbformat_minor": 0,
  "metadata": {
    "colab": {
      "name": "template.ipynb",
      "provenance": [],
      "collapsed_sections": [],
      "authorship_tag": "ABX9TyPvEQ2pmRY1q+ZIw3w5zlE4",
      "include_colab_link": true
    },
    "kernelspec": {
      "name": "python3",
      "display_name": "Python 3"
    },
    "language_info": {
      "name": "python"
    }
  },
  "cells": [
    {
      "cell_type": "markdown",
      "metadata": {
        "id": "view-in-github",
        "colab_type": "text"
      },
      "source": [
        "<a href=\"https://colab.research.google.com/github/wkba/kaggle/blob/main/template.ipynb\" target=\"_parent\"><img src=\"https://colab.research.google.com/assets/colab-badge.svg\" alt=\"Open In Colab\"/></a>"
      ]
    },
    {
      "cell_type": "code",
      "metadata": {
        "id": "Hv6CZfjR1l3S"
      },
      "source": [
        "!pip install kaggle\n",
        "gpu_info = !nvidia-smi\n",
        "gpu_info = '\\n'.join(gpu_info)\n",
        "if gpu_info.find('failed') >= 0:\n",
        "  print('Not connected to a GPU')\n",
        "else:\n",
        "  print(gpu_info)\n",
        "\n",
        "# Google Colaboratory上からGoogle Drive上のファイルにアクセスできるようにする\n",
        "from google.colab import drive\n",
        "drive.mount('/content/drive')\n",
        "\n",
        "# ~/.kaggleディレクトリを作成し、ここへDrive上のkaggle.jsonをコピーしてくる\n",
        "!mkdir ~/.kaggle\n",
        "!cp /content/drive/MyDrive/kaggle/kaggle.json ~/.kaggle/\n",
        "\n",
        "# アクセス権限の設定\n",
        "!chmod 600 ~/.kaggle/kaggle.json\n",
        "\n",
        "#データダウンロード\n",
        "!kaggle competitions download -c ventilator-pressure-prediction -p /content/drive/MyDrive/kaggle_compete/ventilator-pressure-prediction\n",
        "\n",
        "\n",
        "#処理\n",
        "# import pandas as pd\n",
        "# df_train = pd.read_csv(\"/content/drive/MyDrive/kaggle_compete/titanic/train.csv\")\n",
        "# df_test = pd.read_csv(\"/content/drive/MyDrive/kaggle_compete/titanic/test.csv\")\n",
        "# df_submission = pd.read_csv(\"/content/drive/MyDrive/kaggle_compete/titanic/gender_submission.csv\")\n",
        "\n",
        "#サブミット\n",
        "#!kaggle competitions submit -c titanic -f \"/content/drive/MyDrive/kaggle_compete/titanic/gender_submission.csv\" -m \"Message\""
      ],
      "execution_count": null,
      "outputs": []
    }
  ]
}